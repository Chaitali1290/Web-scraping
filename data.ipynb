{
 "cells": [
  {
   "cell_type": "code",
   "execution_count": 1,
   "metadata": {},
   "outputs": [],
   "source": [
    "from attr import attr\n",
    "from bs4 import BeautifulSoup\n",
    "import pandas as pd\n",
    "import requests\n",
    "import re\n",
    "import selenium\n",
    "from selenium import webdriver\n",
    "import csv"
   ]
  },
  {
   "cell_type": "code",
   "execution_count": 6,
   "metadata": {},
   "outputs": [],
   "source": [
    "# Create a function to get the data of one property\n",
    "\n",
    "def get_info_from_url(url):\n",
    "    page = requests.get(url)\n",
    "    soup = BeautifulSoup(page.content, \"lxml\")  \n",
    "    price = soup.find(\"p\", class_ = \"classified__price\").text\n",
    "    price = price.split()[0] \n",
    "    reg=re.findall('([/]+[\\d{4}]+[/])',url)\n",
    "    zipcode=reg[0].replace(\"/\",\"\")\n",
    "\n",
    "    all_tables = soup.find_all(\"tr\")\n",
    "\n",
    "    Dict_Property={}\n",
    "    list_keys=[]\n",
    "    list_values=[]\n",
    "\n",
    "    for row in all_tables:\n",
    "        for th in row.find_all(\"th\"):\n",
    "            list_keys.append(th.contents[0].strip())\n",
    "        for td in row.find_all(\"td\"):\n",
    "            list_values.append(td.contents[0].strip())\n",
    "\n",
    "    Dict_Property=dict(zip(list_keys,list_values))\n",
    "    Dict_Property[\"zipcode\"]=zipcode\n",
    "    Dict_Property[\"Price\"]=price\n",
    "    return Dict_Property\n"
   ]
  },
  {
   "cell_type": "code",
   "execution_count": 7,
   "metadata": {},
   "outputs": [
    {
     "name": "stdout",
     "output_type": "stream",
     "text": [
      "{'Available as of': 'Depending on the tenant', 'Available date': 'December 30 2022 - 12:00 AM', 'Construction year': '1930', 'Building condition': 'To be done up', 'Street frontage width': '7 m', 'Number of frontages': '2', 'Surroundings type': 'Urban', 'Virtual visit': '', 'Living area': '235', 'Living room surface': '17', 'Dining room': 'Yes', 'Kitchen type': 'Not installed', 'Kitchen surface': '13', 'Bedrooms': '4', 'Bedroom 1 surface': '17', 'Bedroom 2 surface': '17', 'Bedroom 3 surface': '15', 'Bedroom 4 surface': '12', 'Bathrooms': '4', 'Shower rooms': '4', 'Toilets': '4', 'Office': 'Yes', 'Professional space surface': '113', 'Basement': 'Yes', 'Furnished': 'No', 'TV cable': 'Yes', 'Surface of the plot': '155', 'Width of the lot on the street': '', 'Connection to sewer network': 'Not connected', 'Gas, water & electricity': 'Yes', 'Terrace surface': '40', 'Elevator': 'No', 'Accessible for disabled people': 'No', 'Intercom': 'Yes', 'Visio phone': 'Yes', 'Swimming pool': 'No', 'Primary energy consumption': '305', 'Energy class': 'D', '': '20200525009229', 'Reference number of the EPC report': '57 kg CO₂/m²', 'CO₂ emission': '15369 kWh/year', 'Yearly theoretical total energy consumption': 'Gas', 'Heating type': 'Yes', 'Double glazing': '122', 'Total ground floor buildable': 'No', 'Subdivision permit': 'No', 'Possible priority purchase right': 'No', 'Proceedings for breach of planning regulations': 'Non flood zone', 'Flood zone type': 'Living area (residential, urban or rural)', 'Latest land use designation': '', 'Price': 'Make', 'Cadastral income': 'No', 'Tenement building': '', 'Address': 'Rue de la Wallonie 2A', 'Website': '', 'External reference': '4735009', 'zipcode': '4020'}\n"
     ]
    }
   ],
   "source": [
    "url=\"https://www.immoweb.be/en/classified/house/for-sale/liege/4020/9943915?searchId=629a0453e2148\"\n",
    "print(get_info_from_url(url))"
   ]
  },
  {
   "cell_type": "code",
   "execution_count": 85,
   "metadata": {},
   "outputs": [
    {
     "name": "stdout",
     "output_type": "stream",
     "text": [
      "['https://www.immoweb.be/en/classified/house/for-sale/astene/9800/9915675?searchId=6299ffe9d23c0', 'https://www.immoweb.be/en/classified/apartment/for-sale/deinze/9800/9943667?searchId=6299ffe9d23c0', 'https://www.immoweb.be/en/classified/apartment/for-sale/deinze/9800/9943663?searchId=6299ffe9d23c0', 'https://www.immoweb.be/en/classified/apartment/for-sale/ixelles/1050/9941090?searchId=6299ffe9d23c0', 'https://www.immoweb.be/en/classified/apartment/for-sale/gavere/9890/9937664?searchId=6299ffe9d23c0', 'https://www.immoweb.be/en/classified/apartment/for-sale/gavere/9890/9937657?searchId=6299ffe9d23c0', 'https://www.immoweb.be/en/classified/apartment/for-sale/gavere/9890/9937662?searchId=6299ffe9d23c0', 'https://www.immoweb.be/en/classified/apartment/for-sale/gavere/9890/9937672?searchId=6299ffe9d23c0', 'https://www.immoweb.be/en/classified/apartment/for-sale/gavere/9890/9937668?searchId=6299ffe9d23c0', 'https://www.immoweb.be/en/classified/apartment/for-sale/gavere/9890/9937666?searchId=6299ffe9d23c0', 'https://www.immoweb.be/en/classified/apartment/for-sale/gavere/9890/9937660?searchId=6299ffe9d23c0', 'https://www.immoweb.be/en/classified/apartment/for-sale/gavere/9890/9937680?searchId=6299ffe9d23c0', 'https://www.immoweb.be/en/classified/apartment/for-sale/gavere/9890/9937676?searchId=6299ffe9d23c0', 'https://www.immoweb.be/en/classified/apartment/for-sale/gavere/9890/9937678?searchId=6299ffe9d23c0', 'https://www.immoweb.be/en/classified/apartment/for-sale/gavere/9890/9937677?searchId=6299ffe9d23c0', 'https://www.immoweb.be/en/classified/apartment/for-sale/gavere/9890/9937675?searchId=6299ffe9d23c0', 'https://www.immoweb.be/en/classified/apartment/for-sale/gavere/9890/9937673?searchId=6299ffe9d23c0', 'https://www.immoweb.be/en/classified/apartment/for-sale/gavere/9890/9937658?searchId=6299ffe9d23c0', 'https://www.immoweb.be/en/classified/apartment/for-sale/gavere/9890/9937671?searchId=6299ffe9d23c0', 'https://www.immoweb.be/en/classified/apartment/for-sale/gavere/9890/9937661?searchId=6299ffe9d23c0', 'https://www.immoweb.be/en/classified/duplex/for-sale/gavere/9890/9937670?searchId=6299ffe9d23c0', 'https://www.immoweb.be/en/classified/duplex/for-sale/gavere/9890/9937656?searchId=6299ffe9d23c0', 'https://www.immoweb.be/en/classified/apartment/for-sale/jette/1090/9935230?searchId=6299ffe9d23c0', 'https://www.immoweb.be/en/classified/apartment/for-sale/jette/1090/9935244?searchId=6299ffe9d23c0', 'https://www.immoweb.be/en/classified/new-real-estate-project-apartments/for-sale/ixelles/1050/9929996?searchId=6299ffe9d23c0', 'https://www.immoweb.be/en/classified/apartment/for-sale/jette/1090/9935245?searchId=6299ffe9d23c0', 'https://www.immoweb.be/en/classified/apartment/for-sale/liege/4020/9943916?searchId=6299ffe9d23c0', 'https://www.immoweb.be/en/classified/new-real-estate-project-apartments/for-sale/wielsbeke/8710/9944382?searchId=6299ffe9d23c0', 'https://www.immoweb.be/en/classified/new-real-estate-project-apartments/for-sale/beveren-leie/8791/9944665?searchId=6299ffe9d23c0', 'https://www.immoweb.be/en/classified/new-real-estate-project-apartments/for-sale/waregem/8790/9944634?searchId=6299ffe9d23c0', 'https://www.immoweb.be/en/classified/villa/for-sale/rixensart/1330/9946789', 'https://www.immoweb.be/en/classified/house/for-sale/hasselt/3500/9946787', 'https://www.immoweb.be/en/classified/house/for-sale/bilzen/3740/9946786', 'https://www.immoweb.be/en/classified/apartment/for-sale/sint-truiden/3800/9946785', 'https://www.immoweb.be/en/classified/house/for-sale/sint-truiden/3800/9946784', 'https://www.immoweb.be/en/classified/apartment/for-sale/sint-amandsberg/9040/9946776', 'https://www.immoweb.be/en/classified/exceptional-property/for-sale/sint-amandsberg/9040/9946775', 'https://www.immoweb.be/en/classified/house/for-sale/sint-amandsberg/9040/9946774', 'https://www.immoweb.be/en/classified/new-real-estate-project-apartments/for-sale/sint-antonius/2980/9914498?searchId=6299fff169697', 'https://www.immoweb.be/en/classified/new-real-estate-project-apartments/for-sale/deinze/9800/9943670?searchId=6299fff169697', 'https://www.immoweb.be/en/classified/house/for-sale/liege/4020/9943915?searchId=6299fff169697', 'https://www.immoweb.be/en/classified/new-real-estate-project-apartments/for-sale/herentals/2200/9945103?searchId=6299fff169697', 'https://www.immoweb.be/en/classified/duplex/for-sale/schaerbeek/1030/9944741?searchId=6299fff169697', 'https://www.immoweb.be/en/classified/house/for-sale/schaerbeek/1030/9943568?searchId=6299fff169697', 'https://www.immoweb.be/en/classified/apartment/for-sale/ixelles/1050/9939272?searchId=6299fff169697', 'https://www.immoweb.be/en/classified/house/for-sale/berchem-sainte-agathe/1082/9944984?searchId=6299fff169697', 'https://www.immoweb.be/en/classified/apartment-block/for-sale/brugge/8000/9945416?searchId=6299fff169697', 'https://www.immoweb.be/en/classified/apartment/for-sale/brussels-city/1000/9938723?searchId=6299fff169697', 'https://www.immoweb.be/en/classified/penthouse/for-sale/brussels-city/1000/9938722?searchId=6299fff169697', 'https://www.immoweb.be/en/classified/apartment/for-sale/deinze/9800/9943665?searchId=6299fff169697', 'https://www.immoweb.be/en/classified/apartment/for-sale/deinze/9800/9943666?searchId=6299fff169697', 'https://www.immoweb.be/en/classified/apartment/for-sale/deinze/9800/9943668?searchId=6299fff169697', 'https://www.immoweb.be/en/classified/apartment/for-sale/deinze/9800/9943664?searchId=6299fff169697', 'https://www.immoweb.be/en/classified/house/for-sale/liege/4020/9941464?searchId=6299fff169697', 'https://www.immoweb.be/en/classified/apartment/for-sale/bruxelles/1000/9941103?searchId=6299fff169697', 'https://www.immoweb.be/en/classified/apartment/for-sale/woluwe-saint-lambert/1200/9934000?searchId=6299fff169697', 'https://www.immoweb.be/en/classified/apartment/for-sale/woluwe-saint-lambert/1200/9941101?searchId=6299fff169697', 'https://www.immoweb.be/en/classified/penthouse/for-sale/sint-niklaas/9100/9942698?searchId=6299fff169697', 'https://www.immoweb.be/en/classified/new-real-estate-project-houses/for-sale/celles/5561/9942463?searchId=6299fff169697', 'https://www.immoweb.be/en/classified/apartment-block/for-sale/libramont-chevigny/6800/9941435?searchId=6299fff169697', 'https://www.immoweb.be/en/classified/apartment/for-sale/ixelles/1050/9941084?searchId=6299fff169697', 'https://www.immoweb.be/en/classified/house/for-sale/ruisbroek-(-bij-brussel)/1601/9941373?searchId=6299fff169697', 'https://www.immoweb.be/en/classified/apartment/for-sale/mechelen/2800/9942225?searchId=6299fff169697', 'https://www.immoweb.be/en/classified/villa/for-sale/groot-bijgaarden/1702/9867538?searchId=6299fff169697', 'https://www.immoweb.be/en/classified/new-real-estate-project-apartments/for-sale/ixelles/1050/9941048?searchId=6299fff169697', 'https://www.immoweb.be/en/classified/new-real-estate-project-houses/for-sale/zaventem-sterrebeek/1933/9941053?searchId=6299fff169697', 'https://www.immoweb.be/en/classified/house/for-sale/libramont-chevigny/6800/9939016?searchId=6299fff169697', 'https://www.immoweb.be/en/classified/new-real-estate-project-apartments/for-sale/evere/1140/9938769?searchId=6299fff169697', 'https://www.immoweb.be/en/classified/villa/for-sale/rixensart/1330/9946789', 'https://www.immoweb.be/en/classified/house/for-sale/hasselt/3500/9946787', 'https://www.immoweb.be/en/classified/house/for-sale/bilzen/3740/9946786', 'https://www.immoweb.be/en/classified/apartment/for-sale/sint-truiden/3800/9946785', 'https://www.immoweb.be/en/classified/house/for-sale/sint-truiden/3800/9946784', 'https://www.immoweb.be/en/classified/apartment/for-sale/sint-amandsberg/9040/9946776', 'https://www.immoweb.be/en/classified/exceptional-property/for-sale/sint-amandsberg/9040/9946775', 'https://www.immoweb.be/en/classified/house/for-sale/sint-amandsberg/9040/9946774']\n"
     ]
    }
   ],
   "source": [
    "# Getting all the links of the properties and store it in file\n",
    "\n",
    "driver = webdriver.Firefox()\n",
    "driver.implicitly_wait(1)\n",
    "\n",
    "Property_links=[]\n",
    "\n",
    "for page in range(1,3):\n",
    "    url=f\"https://www.immoweb.be/en/search/house-and-apartment/for-sale?countries=BE&page={page}&orderBy=relevance\"\n",
    "    driver.get(url)\n",
    "\n",
    "    soup = BeautifulSoup(driver.page_source)\n",
    "\n",
    "    for link in soup.find_all(\"a\", attrs={\"class\":\"card__title-link\"}):\n",
    "        Property_links.append(link.get('href'))\n",
    "print(Property_links)\n",
    "\n",
    "driver.close()\n",
    "\n",
    "with open(\"all_properties.txt\",'w') as f:\n",
    "    for item in Property_links:\n",
    "        f.write(item+\"\\n\")\n"
   ]
  }
 ],
 "metadata": {
  "interpreter": {
   "hash": "486e0d5a79acdbfffd563ee7a67a93a5017bd2a4f66495483a69f0245c8a4a6c"
  },
  "kernelspec": {
   "display_name": "Python 3.10.4 64-bit (windows store)",
   "language": "python",
   "name": "python3"
  },
  "language_info": {
   "codemirror_mode": {
    "name": "ipython",
    "version": 3
   },
   "file_extension": ".py",
   "mimetype": "text/x-python",
   "name": "python",
   "nbconvert_exporter": "python",
   "pygments_lexer": "ipython3",
   "version": "3.10.4"
  },
  "orig_nbformat": 4
 },
 "nbformat": 4,
 "nbformat_minor": 2
}
